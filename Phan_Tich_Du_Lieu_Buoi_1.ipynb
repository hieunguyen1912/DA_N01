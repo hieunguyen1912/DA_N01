{
  "cells": [
    {
      "cell_type": "markdown",
      "metadata": {
        "id": "Py9ukci5uTmi"
      },
      "source": [
        "## 1. Đọc file TXT (sample.txt) và đếm số từ, ký tự, dòng\n",
        "Viết chương trình đọc một file .txt, in ra:\n",
        "\n",
        "  - Tổng số dòng\n",
        "\n",
        "  - Tổng số từ\n",
        "\n",
        "  - Tổng số ký tự"
      ]
    },
    {
      "cell_type": "code",
      "execution_count": 1,
      "metadata": {
        "id": "YNYAoZQ-v-92"
      },
      "outputs": [
        {
          "name": "stdout",
          "output_type": "stream",
          "text": [
            "100\n",
            "817\n",
            "3667\n"
          ]
        }
      ],
      "source": [
        "def line_count():\n",
        "    with open('python_10_exercises_dataset/sample.txt', 'r') as file:\n",
        "        line_count = (sum(1 for line in file))\n",
        "    print(line_count)\n",
        "\n",
        "def word_count():\n",
        "    word_count = 0\n",
        "    with open('python_10_exercises_dataset/sample.txt', 'r') as file:\n",
        "        for line in file:\n",
        "            words = line.split(' ') \n",
        "            word_count += len(words)\n",
        "    print(word_count)\n",
        "\n",
        "def char_count():\n",
        "    char_count = 0\n",
        "    with open('python_10_exercises_dataset/sample.txt', 'r') as file:\n",
        "        for line in file:\n",
        "            for word in line:\n",
        "                char_count += len(word)\n",
        "    print(char_count)\n",
        "\n",
        "line_count()\n",
        "word_count()\n",
        "char_count()"
      ]
    },
    {
      "cell_type": "markdown",
      "metadata": {
        "id": "zjotWvceuiXb"
      },
      "source": [
        "## 2. Làm sạch dữ liệu văn bản\n",
        "Viết hàm nhận vào một chuỗi văn bản (hoặc từ file .txt), loại bỏ:\n",
        "\n",
        "Ký tự đặc biệt\n",
        "\n",
        "Khoảng trắng thừa\n",
        "\n",
        "Đưa toàn bộ về chữ thường\n",
        "\n",
        "Gợi ý: sử dụng regex (re module)"
      ]
    },
    {
      "cell_type": "code",
      "execution_count": 2,
      "metadata": {
        "id": "0G5LpoXrv8us"
      },
      "outputs": [
        {
          "name": "stdout",
          "output_type": "stream",
          "text": [
            "lets clean up this messy textupper and lower case mixed here are numbers 123 456 and symbols ai will change the worldhere are numbers 123 456 and symbols this is spaced out text here are numbers 123 456 and symbols python is great for data sciencepython is great for data sciencelets clean up this messy textlets clean up this messy texthere are numbers 123 456 and symbols here are numbers 123 456 and symbols this is spaced out text ai will change the worldlets clean up this messy textpython is great for data sciencehere are numbers 123 456 and symbols here are numbers 123 456 and symbols upper and lower case mixed python is great for data sciencethis is spaced out text this is spaced out text python is great for data sciencehere are numbers 123 456 and symbols lets clean up this messy texttext processing is fun educationaltext processing is fun educationalhere are numbers 123 456 and symbols here are numbers 123 456 and symbols lets clean up this messy textpython is great for data sciencelets clean up this messy texttext processing is fun educationaltext processing is fun educationalpython is great for data sciencetext processing is fun educationalupper and lower case mixed ai will change the worldlets clean up this messy textthis is spaced out text ai will change the worldhere are numbers 123 456 and symbols here are numbers 123 456 and symbols this is spaced out text upper and lower case mixed lets clean up this messy textupper and lower case mixed upper and lower case mixed ai will change the worldhere are numbers 123 456 and symbols ai will change the worldhere are numbers 123 456 and symbols lets clean up this messy textthis is spaced out text upper and lower case mixed lets clean up this messy textai will change the worldlets clean up this messy texthere are numbers 123 456 and symbols ai will change the worldpython is great for data sciencetext processing is fun educationalai will change the worldai will change the worldai will change the worldpython is great for data sciencepython is great for data scienceupper and lower case mixed here are numbers 123 456 and symbols lets clean up this messy textupper and lower case mixed python is great for data sciencepython is great for data scienceai will change the worldai will change the worldhere are numbers 123 456 and symbols here are numbers 123 456 and symbols text processing is fun educationalthis is spaced out text here are numbers 123 456 and symbols upper and lower case mixed here are numbers 123 456 and symbols here are numbers 123 456 and symbols upper and lower case mixed python is great for data sciencethis is spaced out text here are numbers 123 456 and symbols this is spaced out text text processing is fun educationaltext processing is fun educationalupper and lower case mixed this is spaced out text ai will change the worldthis is spaced out text upper and lower case mixed ai will change the worldhere are numbers 123 456 and symbols lets clean up this messy textai will change the world\n"
          ]
        }
      ],
      "source": [
        "import re\n",
        "\n",
        "def remove_special_characters():\n",
        "    # Remove special characters from the text file\n",
        "    regex = \"[^a-zA-Z0-9 ]\"\n",
        "    with open('python_10_exercises_dataset/sample.txt', 'r') as file:\n",
        "        content = file.read()\n",
        "        content = re.sub(regex, '', content)\n",
        "        content = content.lower()\n",
        "        content = re.sub(r'\\s+', ' ', content)\n",
        "    \n",
        "    print(content.strip())\n",
        "\n",
        "remove_special_characters()"
      ]
    },
    {
      "cell_type": "markdown",
      "metadata": {
        "id": "oJLpEswhuqH7"
      },
      "source": [
        " ## 3. Đọc file CSV chứa danh sách sinh viên và tính điểm trung bình\n",
        "File students.csv có dạng:\n",
        "\n",
        "Name,Math,Physics,Chemistry\n",
        "\n",
        "An,8,7,9\n",
        "\n",
        "Bình,6,5,7\n",
        "\n",
        "Viết chương trình đọc file và tính điểm trung bình cho từng sinh viên, sau đó lưu kết quả ra file mới avg_scores.csv."
      ]
    },
    {
      "cell_type": "code",
      "execution_count": 3,
      "metadata": {
        "id": "SA53b5Lgv9W9"
      },
      "outputs": [],
      "source": [
        "import csv\n",
        "\n",
        "with open('python_10_exercises_dataset/students_scores.csv', 'r') as file:\n",
        "    csvreader = csv.reader(file)\n",
        "    res = []\n",
        "    next(csvreader)\n",
        "    for row in csvreader:\n",
        "        avg_score = (int(row[1]) + int(row[2]) + int(row[3])) / 3\n",
        "        res.append([row[0], avg_score])\n",
        "        \n",
        "with open('python_10_exercises_dataset/avg_scores.csv', 'w') as file:\n",
        "    csvwriter = csv.writer(file)\n",
        "    csvwriter.writerow(['Name', 'Average Score'])\n",
        "    for i in res:\n",
        "        csvwriter.writerow([i[0], i[1]])\n",
        "    "
      ]
    },
    {
      "cell_type": "markdown",
      "metadata": {
        "id": "IjOsvkx0u35D"
      },
      "source": [
        "## 4. Clean và chuẩn hóa dữ liệu trong CSV\n",
        "\n",
        "File chứa các bản ghi không đồng nhất:\n",
        "\n",
        "\n",
        "name,age,gender\n",
        "\n",
        "\"  an \",20,Male\n",
        "\n",
        "\"BINH\",,FEMALE\n",
        "\n",
        "\"Ha\",25,unknown\n",
        "\n",
        "Viết hàm:\n",
        "\n",
        "- Xoá khoảng trắng, chuẩn hóa viết hoa/thường cho cột name, gender\n",
        "\n",
        "- Thay giá trị thiếu (age) bằng giá trị trung bình\n",
        "\n",
        "- Thay “unknown” thành “other” ở cột gender\n"
      ]
    },
    {
      "cell_type": "code",
      "execution_count": 16,
      "metadata": {
        "id": "AGk9X6IqwAcg"
      },
      "outputs": [],
      "source": [
        "import csv \n",
        "\n",
        "def clean_csv(input_file, output_file):\n",
        "    with open(input_file, 'r') as file:\n",
        "        csvreader = csv.reader(file)\n",
        "        header = next(csvreader)\n",
        "        rows = list(csvreader)\n",
        "        \n",
        "    age = []\n",
        "    for row in rows:\n",
        "        if row[1].strip().isdigit():\n",
        "            age.append(int(row[1].strip()))\n",
        "    avg_age = sum(age) / len(age)\n",
        "\n",
        "    cleaned_rows = []\n",
        "    for row in rows:\n",
        "        row[0] = row[0].strip().title()\n",
        "\n",
        "        if not row[1].strip().isdigit():\n",
        "            row[1] = str(avg_age)\n",
        "        else:\n",
        "            row[1] = row[1].strip()\n",
        "        \n",
        "        row[2] = row[2].strip().lower()\n",
        "        if row[2] == 'unknown' or not row[2]:\n",
        "            row[2] = 'other'\n",
        "        cleaned_rows.append(row)\n",
        "\n",
        "    with open(output_file, 'w', newline='') as file:\n",
        "        csvwriter = csv.writer(file)\n",
        "        csvwriter.writerow(header)\n",
        "        for row in cleaned_rows:\n",
        "            csvwriter.writerow(row)\n",
        "\n",
        "clean_csv('python_10_exercises_dataset/raw_data_clean.csv', 'python_10_exercises_dataset/cleaned_data.csv')\n",
        "\n",
        "\n"
      ]
    },
    {
      "cell_type": "markdown",
      "metadata": {
        "id": "MZ1aJ8xHvChz"
      },
      "source": [
        "## 5. Quản lý danh bạ dùng class và lưu vào file JSON\n",
        "\n",
        "\n",
        "Tạo class Contact với các thuộc tính: tên, số điện thoại, email.\n",
        "Tạo ContactBook để thêm, xoá, tìm kiếm và lưu toàn bộ danh bạ vào file contacts.json."
      ]
    },
    {
      "cell_type": "code",
      "execution_count": 19,
      "metadata": {
        "id": "hH7zKXarwA_o"
      },
      "outputs": [
        {
          "name": "stdout",
          "output_type": "stream",
          "text": [
            "Nguyen Van A - 0905123456 - a@gmail.com\n",
            "Nguyen Van A - 0905123456 - a@gmail.com\n",
            "Nguyen Van A - 0905123456 - a@gmail.com\n"
          ]
        }
      ],
      "source": [
        "import json\n",
        "import os\n",
        "\n",
        "class Contact:\n",
        "    def __init__(self, name, phone_number, email):\n",
        "        self.name = name\n",
        "        self.phone_number = phone_number\n",
        "        self.email = email\n",
        "\n",
        "    def to_dict(self):\n",
        "        return {\n",
        "            'name': self.name,\n",
        "            'phone_number': self.phone_number,\n",
        "            'email': self.email\n",
        "        } \n",
        "    \n",
        "    @staticmethod\n",
        "    def from_dict(data):\n",
        "        return Contact(data['name'], data['phone_number'], data['email'])\n",
        "    \n",
        "\n",
        "class ContactBook:\n",
        "    def __init__(self, file_path='contacts.json'):\n",
        "        self.file_path = file_path\n",
        "        self.contacts = []\n",
        "        self.load()\n",
        "\n",
        "    def add_contact(self, contact):\n",
        "        self.contacts.append(contact)\n",
        "        self.save()\n",
        "\n",
        "    def remove_contact(self, name):\n",
        "        self.contacts = [c for c in self.contacts if c.name != name.lower()]\n",
        "        self.save()\n",
        "\n",
        "    def search_contact(self, keyword):\n",
        "        result = [c for c in self.contacts if keyword.lower() in c.name.lower()]\n",
        "        return result\n",
        "    \n",
        "    def load(self):\n",
        "        if os.path.exists(self.file_path):\n",
        "            with open(self.file_path, 'r') as file:\n",
        "                try:\n",
        "                    data = json.load(file)\n",
        "                    self.contacts = [Contact.from_dict(d) for d in data]\n",
        "                except json.JSONDecodeError:\n",
        "                    self.contacts = []\n",
        "\n",
        "    def save(self):\n",
        "        with open(self.file_path, 'w') as file:\n",
        "            json.dump([contact.to_dict() for contact in self.contacts], file, indent=4) \n",
        "\n",
        "\n",
        "\n",
        "if __name__ == '__main__':\n",
        "    book = ContactBook()\n",
        "\n",
        "    # Thêm liên hệ\n",
        "    contact1 = Contact(\"Nguyen Van A\", \"0905123456\", \"a@gmail.com\")\n",
        "    book.add_contact(contact1)\n",
        "\n",
        "    # Tìm kiếm\n",
        "    results = book.search_contact(\"nguyen\")\n",
        "    for c in results:\n",
        "        print(f\"{c.name} - {c.phone_number} - {c.email}\")\n",
        "\n",
        "    # Xoá liên hệ\n",
        "    book.remove_contact(\"Nguyen Van A\")\n"
      ]
    },
    {
      "cell_type": "markdown",
      "metadata": {
        "id": "mSG18xymvONE"
      },
      "source": [
        "## 6. Phân tích log file\n",
        "Cho file log.txt chứa dữ liệu dạng:\n",
        "\n",
        "\n",
        "[2025-04-20 10:15:23] ERROR: Cannot connect to server\n",
        "\n",
        "\n",
        "[2025-04-20 10:16:01] INFO: Retry connection\n",
        "\n",
        "Viết chương trình:\n",
        "\n",
        "Đếm số lần xuất hiện của mỗi loại log: INFO, ERROR, WARNING\n",
        "\n",
        "Lọc ra toàn bộ dòng chứa ERROR\n"
      ]
    },
    {
      "cell_type": "code",
      "execution_count": 22,
      "metadata": {
        "id": "HbQ3pXe7wBeb"
      },
      "outputs": [
        {
          "name": "stdout",
          "output_type": "stream",
          "text": [
            "ERROR: 35\n"
          ]
        }
      ],
      "source": [
        "with open('python_10_exercises_dataset/log.txt', 'r') as file:\n",
        "    lines = file.read()\n",
        "\n",
        "Error_count = 0\n",
        "Info_count = 0\n",
        "Warning_count = 0\n",
        "for line in lines.split('\\n'):\n",
        "    if line.find('ERROR') != -1:\n",
        "        Error_count += 1\n",
        "    elif line.find('INFO') != -1:\n",
        "        Info_count += 1\n",
        "    elif line.find('WARNING') != -1:\n",
        "        Warning_count += 1\n",
        "    else:\n",
        "        continue\n",
        "print(f'ERROR: {Error_count}')"
      ]
    },
    {
      "cell_type": "markdown",
      "metadata": {
        "id": "3E2xdVWFvWM8"
      },
      "source": [
        "## 7. Tạo class StudentManager quản lý sinh viên từ file CSV\n",
        "\n",
        "Viết class:\n",
        "\n",
        "Đọc danh sách từ CSV\n",
        "\n",
        "Cho phép: thêm sinh viên, xoá sinh viên theo tên, tìm sinh viên theo mã\n",
        "\n",
        "Lưu thay đổi về file gốc"
      ]
    },
    {
      "cell_type": "code",
      "execution_count": 5,
      "metadata": {
        "id": "bcXqMdwSwB_O"
      },
      "outputs": [
        {
          "name": "stdout",
          "output_type": "stream",
          "text": [
            "Student Nguyen Van A added successfully!\n",
            "Student found: Student1\n",
            "Student Student1 removed successfully!\n"
          ]
        }
      ],
      "source": [
        "import os\n",
        "\n",
        "class Student:\n",
        "    def __init__(self, id, name):\n",
        "        self.id = id\n",
        "        self.name = name\n",
        "    \n",
        "\n",
        "class StudentManager:\n",
        "    def __init__(self):\n",
        "        self.file_path = 'python_10_exercises_dataset/students_for_manager.csv'\n",
        "        self.students = []\n",
        "        self.load_students()\n",
        "    \n",
        "    def load_students(self):\n",
        "        if os.path.exists(self.file_path):\n",
        "            with open(self.file_path, 'r') as file:\n",
        "                lines = file.readlines()\n",
        "                for line in lines:\n",
        "                    id, name = line.strip().split(',')\n",
        "                    student = Student(id, name)\n",
        "                    self.students.append(student)\n",
        "    \n",
        "    def save_students(self):\n",
        "        with open(self.file_path, 'w') as file:\n",
        "            for student in self.students:\n",
        "                file.write(f\"{student.id},{student.name}\\n\")\n",
        "\n",
        "    def add_student(self, student):\n",
        "        self.students.append(student)\n",
        "        self.save_students()\n",
        "        print(f\"Student {student.name} added successfully!\")\n",
        "    \n",
        "    def remove_student(self, id):\n",
        "        for student in self.students:\n",
        "            if student.id == id:\n",
        "                self.students.remove(student)\n",
        "                self.save_students()\n",
        "                print(f\"Student {student.name} removed successfully!\")\n",
        "                return\n",
        "        print(\"Student not found!\")\n",
        "    \n",
        "    def search_student(self, id):\n",
        "        for student in self.students:\n",
        "            if student.id == id:\n",
        "                print(f\"Student found: {student.name}\")\n",
        "                return\n",
        "        print(\"Student not found!\")\n",
        "\n",
        "\n",
        "if __name__ == '__main__':\n",
        "    manager = StudentManager()\n",
        "    \n",
        "    # Thêm sinh viên\n",
        "    student1 = Student(\"1\", \"Nguyen Van A\")\n",
        "    manager.add_student(student1)\n",
        "\n",
        "    # Tìm kiếm sinh viên\n",
        "    manager.search_student(\"1\")\n",
        "\n",
        "    # Xoá sinh viên\n",
        "    manager.remove_student(\"1\")\n"
      ]
    },
    {
      "cell_type": "markdown",
      "metadata": {
        "id": "jq5flkkCvaHe"
      },
      "source": [
        "## 8. Merge nhiều file CSV\n",
        "\n",
        "\n",
        "Cho nhiều file CSV cùng cấu trúc trong một thư mục (ví dụ: data1.csv, data2.csv,...)\n",
        "\n",
        "Viết chương trình:\n",
        "\n",
        "\n",
        "Đọc tất cả file trong thư mục\n",
        "\n",
        "Gộp lại thành một file duy nhất merged.csv\n",
        "\n",
        "Loại bỏ các dòng trùng lặp (dựa trên một cột như ID)"
      ]
    },
    {
      "cell_type": "code",
      "execution_count": 11,
      "metadata": {
        "id": "DG3fYiItwCbz"
      },
      "outputs": [],
      "source": [
        "file_1 = \"python_10_exercises_dataset/csv_folder/data1.csv\"\n",
        "file_2 = \"python_10_exercises_dataset/csv_folder/data2.csv\"\n",
        "output_file = \"python_10_exercises_dataset/csv_folder/merged.csv\"\n",
        "\n",
        "seen_rows = []\n",
        "with open(output_file, \"w\", newline=\"\", encoding=\"utf-8\") as out_f:\n",
        "    writer = csv.writer(out_f)\n",
        "\n",
        "    for file in [file_1, file_2]:\n",
        "        with open(file, \"r\", encoding=\"utf-8\") as in_f:\n",
        "            reader = csv.reader(in_f)\n",
        "            header = next(reader)\n",
        "            if file == file_1:\n",
        "                writer.writerow(header)\n",
        "\n",
        "            for row in reader:\n",
        "                row_tuple = tuple(row)\n",
        "                if row_tuple not in seen_rows:\n",
        "                    seen_rows.append(row_tuple)\n",
        "                    writer.writerow(row)"
      ]
    },
    {
      "cell_type": "markdown",
      "metadata": {
        "id": "4lIbQUwgvmR9"
      },
      "source": [
        "## 9. Thống kê dữ liệu từ CSV dạng bảng\n",
        "\n",
        "File sales.csv có dạng:\n",
        "\n",
        "\n",
        "Date,Product,Amount\n",
        "\n",
        "2025-01-01,Apple,100\n",
        "\n",
        "2025-01-01,Banana,150\n",
        "\n",
        "2025-01-02,Apple,200\n",
        "\n",
        "Yêu cầu:\n",
        "\n",
        "Tính tổng doanh thu mỗi sản phẩm\n",
        "\n",
        "Tìm ngày có doanh thu cao nhất"
      ]
    },
    {
      "cell_type": "code",
      "execution_count": 21,
      "metadata": {
        "id": "EDhdonwMwC6S"
      },
      "outputs": [
        {
          "name": "stdout",
          "output_type": "stream",
          "text": [
            "key: Apple, value: 6607.0\n",
            "key: Grape, value: 7589.0\n",
            "key: Orange, value: 7837.0\n",
            "key: Banana, value: 5965.0\n"
          ]
        }
      ],
      "source": [
        "with open(\"python_10_exercises_dataset/sales.csv\", \"r\", encoding=\"utf-8\") as file:\n",
        "    reader = csv.reader(file)\n",
        "    header = next(reader)\n",
        "    prod_category = {}\n",
        "    for row in reader:\n",
        "        key = row[1]\n",
        "        value = float(row[2])\n",
        "        if key in prod_category:\n",
        "            prod_category[key] += value\n",
        "        else:\n",
        "            prod_category[key] = value\n",
        "    \n",
        "    for key, value in prod_category.items():\n",
        "        print(f\"key: {key}, value: {value}\")"
      ]
    },
    {
      "cell_type": "markdown",
      "metadata": {
        "id": "CqhE9EUovxF2"
      },
      "source": [
        "## 10. Mini Project: Quản lý thư viện\n",
        "\n",
        "Viết một chương trình sử dụng class để quản lý sách:\n",
        "\n",
        "- Class Book (tên, tác giả, năm, mã sách)\n",
        "\n",
        "- Class Library chứa danh sách sách, hỗ trợ: thêm sách, mượn sách, trả sách, tìm kiếm theo tên hoặc mã\n",
        "\n",
        "Lưu và đọc thông tin từ file library.csv"
      ]
    },
    {
      "cell_type": "code",
      "execution_count": null,
      "metadata": {
        "id": "fTBBdPjQwDhx"
      },
      "outputs": [
        {
          "name": "stdout",
          "output_type": "stream",
          "text": [
            "Hello\n",
            "code name author year\n",
            "BK0001 Book Title 1 Author Nam 1992\n",
            "BK0002 Book Title 2 Author Lily 2014\n",
            "BK0003 Book Title 3 Author Mai 2000\n",
            "BK0004 Book Title 4 Author Binh 2001\n",
            "BK0005 Book Title 5 Author Lily 2018\n",
            "BK0006 Book Title 6 Author Nam 2016\n",
            "BK0007 Book Title 7 Author Tuan 1997\n",
            "BK0008 Book Title 8 Author Linh 2000\n",
            "BK0009 Book Title 9 Author Tuan 1996\n",
            "BK0010 Book Title 10 Author Mai 1990\n",
            "BK0011 Book Title 11 Author John 2002\n",
            "BK0012 Book Title 12 Author Trang 2009\n",
            "BK0013 Book Title 13 Author Linh 2008\n",
            "BK0014 Book Title 14 Author John 2019\n",
            "BK0015 Book Title 15 Author Mai 1998\n",
            "BK0016 Book Title 16 Author Ha 1998\n",
            "BK0017 Book Title 17 Author Trang 2004\n",
            "BK0018 Book Title 18 Author Nam 1997\n",
            "BK0019 Book Title 19 Author Trang 1992\n",
            "BK0020 Book Title 20 Author Nam 1998\n",
            "BK0021 Book Title 21 Author an 2008\n",
            "BK0022 Book Title 22 Author Nam 1999\n",
            "BK0023 Book Title 23 Author Binh 1992\n",
            "BK0024 Book Title 24 Author Linh 2022\n",
            "BK0025 Book Title 25 Author Trang 1992\n",
            "BK0026 Book Title 26 Author Binh 1993\n",
            "BK0027 Book Title 27 Author Nam 1997\n",
            "BK0028 Book Title 28 Author Nam 2003\n",
            "BK0029 Book Title 29 Author an 2013\n",
            "BK0030 Book Title 30 Author Linh 2018\n",
            "BK0031 Book Title 31 Author an 2006\n",
            "BK0032 Book Title 32 Author Trang 1999\n",
            "BK0033 Book Title 33 Author Ha 2017\n",
            "BK0034 Book Title 34 Author Nam 2019\n",
            "BK0035 Book Title 35 Author Lily 2023\n",
            "BK0036 Book Title 36 Author Tuan 2006\n",
            "BK0037 Book Title 37 Author John 2003\n",
            "BK0038 Book Title 38 Author an 1997\n",
            "BK0039 Book Title 39 Author Nam 2004\n",
            "BK0040 Book Title 40 Author Trang 2005\n",
            "BK0041 Book Title 41 Author John 1995\n",
            "BK0042 Book Title 42 Author Nam 2022\n",
            "BK0043 Book Title 43 Author Trang 2018\n",
            "BK0044 Book Title 44 Author Binh 2006\n",
            "BK0045 Book Title 45 Author Nam 2019\n",
            "BK0046 Book Title 46 Author Trang 2004\n",
            "BK0047 Book Title 47 Author Binh 1999\n",
            "BK0048 Book Title 48 Author Nam 2001\n",
            "BK0049 Book Title 49 Author an 2011\n",
            "BK0050 Book Title 50 Author Lily 2008\n",
            "BK0051 Book Title 51 Author Binh 1998\n",
            "BK0052 Book Title 52 Author Lily 2009\n",
            "BK0053 Book Title 53 Author John 2020\n",
            "BK0054 Book Title 54 Author Binh 2014\n",
            "BK0055 Book Title 55 Author Lily 2018\n",
            "BK0056 Book Title 56 Author Tuan 1991\n",
            "BK0057 Book Title 57 Author John 2002\n",
            "BK0058 Book Title 58 Author Linh 2000\n",
            "BK0059 Book Title 59 Author Trang 2017\n",
            "BK0060 Book Title 60 Author John 2016\n",
            "BK0061 Book Title 61 Author Nam 2018\n",
            "BK0062 Book Title 62 Author Trang 2014\n",
            "BK0063 Book Title 63 Author John 2007\n",
            "BK0064 Book Title 64 Author an 1992\n",
            "BK0065 Book Title 65 Author Linh 2009\n",
            "BK0066 Book Title 66 Author Mai 1998\n",
            "BK0067 Book Title 67 Author an 2016\n",
            "BK0068 Book Title 68 Author Binh 2001\n",
            "BK0069 Book Title 69 Author Trang 2007\n",
            "BK0070 Book Title 70 Author Binh 2005\n",
            "BK0071 Book Title 71 Author Lily 2009\n",
            "BK0072 Book Title 72 Author Linh 2024\n",
            "BK0073 Book Title 73 Author Linh 2019\n",
            "BK0074 Book Title 74 Author John 2008\n",
            "BK0075 Book Title 75 Author Nam 1997\n",
            "BK0076 Book Title 76 Author Mai 1990\n",
            "BK0077 Book Title 77 Author Binh 2009\n",
            "BK0078 Book Title 78 Author Linh 2020\n",
            "BK0079 Book Title 79 Author an 1992\n",
            "BK0080 Book Title 80 Author an 2005\n",
            "BK0081 Book Title 81 Author Binh 1996\n",
            "BK0082 Book Title 82 Author Ha 1997\n",
            "BK0083 Book Title 83 Author Linh 2004\n",
            "BK0084 Book Title 84 Author Mai 2005\n",
            "BK0085 Book Title 85 Author an 2023\n",
            "BK0086 Book Title 86 Author Nam 1999\n",
            "BK0087 Book Title 87 Author Ha 2006\n",
            "BK0088 Book Title 88 Author Tuan 2022\n",
            "BK0089 Book Title 89 Author Binh 2002\n",
            "BK0090 Book Title 90 Author Ha 2013\n",
            "BK0091 Book Title 91 Author Ha 1992\n",
            "BK0092 Book Title 92 Author Mai 1998\n",
            "BK0093 Book Title 93 Author an 2001\n",
            "BK0094 Book Title 94 Author Mai 1999\n",
            "BK0095 Book Title 95 Author Tuan 2020\n",
            "BK0096 Book Title 96 Author Binh 2022\n",
            "BK0097 Book Title 97 Author Tuan 1993\n",
            "BK0098 Book Title 98 Author Nam 2018\n",
            "BK0099 Book Title 99 Author an 1994\n",
            "BK0100 Book Title 100 Author Linh 2004\n"
          ]
        }
      ],
      "source": [
        "class Book: \n",
        "    def __init__(self, code, title, author, year, available=True):\n",
        "        self.code = code\n",
        "        self.title = title\n",
        "        self.author = author\n",
        "        self.year = year\n",
        "        self.available = available\n",
        "\n",
        "    def to_list(self):\n",
        "        return [self.code, self.title, self.author, self.year, str(self.available)]\n",
        "\n",
        "    @staticmethod\n",
        "    def from_list(data):\n",
        "        code, title, author, year, available = data\n",
        "        return Book(code, title, author, year, available == \"True\")\n",
        "\n",
        "\n",
        "class Library:\n",
        "    def __init__(self, file_path):\n",
        "        self.books = []\n",
        "        self.file_path = file_path\n",
        "        self.load()\n",
        "\n",
        "    def load_books(self):\n",
        "        try:\n",
        "            with open(self.file_path, mode='r', encoding='utf-8') as f:\n",
        "                reader = csv.reader(f)\n",
        "                for row in reader:\n",
        "                    book = Book.from_list(row)\n",
        "                    self.books.append(book)\n",
        "        except FileNotFoundError:\n",
        "            pass \n",
        "\n",
        "    def save_books(self):\n",
        "        with open(self.file_path, mode='w', newline='', encoding='utf-8') as f:\n",
        "            writer = csv.writer(f)\n",
        "            for book in self.books:\n",
        "                writer.writerow(book.to_list())\n",
        "\n",
        "    def add_book(self, book):\n",
        "        self.books.append(book)\n",
        "        self.save_books()\n",
        "\n",
        "    def borrow_book(self, code):\n",
        "        for book in self.books:\n",
        "            if book.code == code and book.available:\n",
        "                book.available = False\n",
        "                self.save_books()\n",
        "                return f\"Bạn đã mượn sách '{book.title}'.\"\n",
        "        return \"Sách không tồn tại hoặc đã được mượn.\"\n",
        "\n",
        "    def return_book(self, code):\n",
        "        for book in self.books:\n",
        "            if book.code == code and not book.available:\n",
        "                book.available = True\n",
        "                self.save_books()\n",
        "                return f\"Bạn đã trả sách '{book.title}'.\"\n",
        "        return \"Sách không tồn tại hoặc chưa được mượn.\"\n",
        "\n",
        "    def search(self, keyword):\n",
        "        results = []\n",
        "        for book in self.books:\n",
        "            if keyword.lower() in book.title.lower() or keyword.lower() == book.code.lower():\n",
        "                results.append(book)\n",
        "        return results\n",
        "\n",
        "    def list_books(self):\n",
        "        return self.books\n",
        "\n",
        "if __name__ == \"__main__\":\n",
        "    library = Library(\"python_10_exercises_dataset/library.csv\")\n"
      ]
    },
    {
      "cell_type": "code",
      "execution_count": null,
      "metadata": {},
      "outputs": [],
      "source": []
    }
  ],
  "metadata": {
    "colab": {
      "provenance": []
    },
    "kernelspec": {
      "display_name": "base",
      "language": "python",
      "name": "python3"
    },
    "language_info": {
      "codemirror_mode": {
        "name": "ipython",
        "version": 3
      },
      "file_extension": ".py",
      "mimetype": "text/x-python",
      "name": "python",
      "nbconvert_exporter": "python",
      "pygments_lexer": "ipython3",
      "version": "3.12.4"
    }
  },
  "nbformat": 4,
  "nbformat_minor": 0
}
